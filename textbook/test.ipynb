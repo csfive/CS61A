{
 "cells": [
  {
   "cell_type": "code",
   "execution_count": 4,
   "metadata": {},
   "outputs": [],
   "source": [
    "from operator import add, sub\n",
    "\n",
    "\n",
    "def a_plus_abs_b(a, b):\n",
    "    \"\"\"Return a+abs(b), but without calling abs.\n",
    "\n",
    "    >>> a_plus_abs_b(2, 3)\n",
    "    5\n",
    "    >>> a_plus_abs_b(2, -3)\n",
    "    5\n",
    "    >>> a_plus_abs_b(-1, 4)\n",
    "    3\n",
    "    >>> a_plus_abs_b(-1, -4)\n",
    "    3\n",
    "    \"\"\"\n",
    "    if b < 0:\n",
    "        f = sub\n",
    "    else:\n",
    "        f = add\n",
    "    return f(a, b)"
   ]
  },
  {
   "cell_type": "code",
   "execution_count": 5,
   "metadata": {},
   "outputs": [
    {
     "data": {
      "text/plain": [
       "['return f(a, b)']"
      ]
     },
     "execution_count": 5,
     "metadata": {},
     "output_type": "execute_result"
    }
   ],
   "source": [
    "import inspect\n",
    "import re\n",
    "\n",
    "# 找 return 开头的行\n",
    "re.findall(r\"^\\s*(return .*)\", inspect.getsource(a_plus_abs_b), re.M)"
   ]
  },
  {
   "cell_type": "code",
   "execution_count": 6,
   "metadata": {},
   "outputs": [],
   "source": [
    "def two_of_three(i, j, k):\n",
    "    \"\"\"Return m*m + n*n, where m and n are the two smallest members of the\n",
    "    positive numbers i, j, and k.\n",
    "\n",
    "    >>> two_of_three(1, 2, 3)\n",
    "    5\n",
    "    >>> two_of_three(5, 3, 1)\n",
    "    10\n",
    "    >>> two_of_three(10, 2, 8)\n",
    "    68\n",
    "    >>> two_of_three(5, 5, 5)\n",
    "    50\n",
    "    \"\"\"\n",
    "    return i**2 + j**2 + k**2 - max(i, j, k) ** 2"
   ]
  },
  {
   "cell_type": "code",
   "execution_count": 14,
   "metadata": {},
   "outputs": [
    {
     "name": "stdout",
     "output_type": "stream",
     "text": [
      "Module(\n",
      "    body=[\n",
      "        FunctionDef(\n",
      "            name='two_of_three',\n",
      "            args=arguments(\n",
      "                posonlyargs=[],\n",
      "                args=[\n",
      "                    arg(arg='i'),\n",
      "                    arg(arg='j'),\n",
      "                    arg(arg='k')],\n",
      "                kwonlyargs=[],\n",
      "                kw_defaults=[],\n",
      "                defaults=[]),\n",
      "            body=[\n",
      "                Expr(\n",
      "                    value=Constant(value='Return m*m + n*n, where m and n are the two smallest members of the\\n    positive numbers i, j, and k.\\n\\n    >>> two_of_three(1, 2, 3)\\n    5\\n    >>> two_of_three(5, 3, 1)\\n    10\\n    >>> two_of_three(10, 2, 8)\\n    68\\n    >>> two_of_three(5, 5, 5)\\n    50\\n    ')),\n",
      "                Return(\n",
      "                    value=BinOp(\n",
      "                        left=BinOp(\n",
      "                            left=BinOp(\n",
      "                                left=BinOp(\n",
      "                                    left=Name(id='i', ctx=Load()),\n",
      "                                    op=Pow(),\n",
      "                                    right=Constant(value=2)),\n",
      "                                op=Add(),\n",
      "                                right=BinOp(\n",
      "                                    left=Name(id='j', ctx=Load()),\n",
      "                                    op=Pow(),\n",
      "                                    right=Constant(value=2))),\n",
      "                            op=Add(),\n",
      "                            right=BinOp(\n",
      "                                left=Name(id='k', ctx=Load()),\n",
      "                                op=Pow(),\n",
      "                                right=Constant(value=2))),\n",
      "                        op=Sub(),\n",
      "                        right=BinOp(\n",
      "                            left=Call(\n",
      "                                func=Name(id='max', ctx=Load()),\n",
      "                                args=[\n",
      "                                    Name(id='i', ctx=Load()),\n",
      "                                    Name(id='j', ctx=Load()),\n",
      "                                    Name(id='k', ctx=Load())],\n",
      "                                keywords=[]),\n",
      "                            op=Pow(),\n",
      "                            right=Constant(value=2))))],\n",
      "            decorator_list=[],\n",
      "            type_params=[])],\n",
      "    type_ignores=[])\n"
     ]
    }
   ],
   "source": [
    "import ast\n",
    "import inspect\n",
    "\n",
    "print(ast.dump(ast.parse(inspect.getsource(two_of_three)), indent=4))"
   ]
  },
  {
   "cell_type": "code",
   "execution_count": 15,
   "metadata": {},
   "outputs": [
    {
     "name": "stdout",
     "output_type": "stream",
     "text": [
      "<ast.Expr object at 0x7fe14a9929d0> <class 'ast.Expr'>\n",
      "<ast.Return object at 0x7fe14a993a10> <class 'ast.Return'>\n"
     ]
    }
   ],
   "source": [
    "for x in ast.parse(inspect.getsource(two_of_three)).body[0].body:\n",
    "    print(x, type(x))"
   ]
  },
  {
   "cell_type": "code",
   "execution_count": 12,
   "metadata": {},
   "outputs": [
    {
     "data": {
      "text/plain": [
       "['Expr', 'Return']"
      ]
     },
     "execution_count": 12,
     "metadata": {},
     "output_type": "execute_result"
    }
   ],
   "source": [
    "[type(x).__name__ for x in ast.parse(inspect.getsource(two_of_three)).body[0].body]"
   ]
  },
  {
   "cell_type": "code",
   "execution_count": 5,
   "metadata": {},
   "outputs": [
    {
     "name": "stdout",
     "output_type": "stream",
     "text": [
      "positive\n",
      "0\n",
      "None None\n"
     ]
    }
   ],
   "source": [
    "def how_big(x):\n",
    "    if x > 10:\n",
    "        print(\"huge\")\n",
    "    elif x > 5:\n",
    "        return \"big\"\n",
    "    if x > 0:\n",
    "        print(\"positive\")\n",
    "    else:\n",
    "        print(0)\n",
    "\n",
    "\n",
    "print(how_big(1), how_big(0))"
   ]
  },
  {
   "cell_type": "code",
   "execution_count": 6,
   "metadata": {},
   "outputs": [
    {
     "name": "stdout",
     "output_type": "stream",
     "text": [
      "-12\n",
      "-9\n",
      "-3\n"
     ]
    }
   ],
   "source": [
    "negative = -12\n",
    "while negative:\n",
    "    if negative + 6:\n",
    "        print(negative)\n",
    "    negative += 3"
   ]
  }
 ],
 "metadata": {
  "kernelspec": {
   "display_name": "Python 3",
   "language": "python",
   "name": "python3"
  },
  "language_info": {
   "codemirror_mode": {
    "name": "ipython",
    "version": 3
   },
   "file_extension": ".py",
   "mimetype": "text/x-python",
   "name": "python",
   "nbconvert_exporter": "python",
   "pygments_lexer": "ipython3",
   "version": "3.12.1"
  }
 },
 "nbformat": 4,
 "nbformat_minor": 2
}
