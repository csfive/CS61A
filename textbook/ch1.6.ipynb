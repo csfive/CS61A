{
 "cells": [
  {
   "cell_type": "code",
   "execution_count": 1,
   "metadata": {},
   "outputs": [
    {
     "data": {
      "text/plain": [
       "5050"
      ]
     },
     "execution_count": 1,
     "metadata": {},
     "output_type": "execute_result"
    }
   ],
   "source": [
    "def sum_naturals(n):\n",
    "    total, k = 0, 1\n",
    "    while k <= n:\n",
    "        total, k = total + k, k + 1\n",
    "    return total\n",
    "\n",
    "\n",
    "sum_naturals(100)"
   ]
  },
  {
   "cell_type": "code",
   "execution_count": 2,
   "metadata": {},
   "outputs": [
    {
     "data": {
      "text/plain": [
       "25502500"
      ]
     },
     "execution_count": 2,
     "metadata": {},
     "output_type": "execute_result"
    }
   ],
   "source": [
    "def sum_cubes(n):\n",
    "    total, k = 0, 1\n",
    "    while k <= n:\n",
    "        total, k = total + k * k * k, k + 1\n",
    "    return total\n",
    "\n",
    "\n",
    "sum_cubes(100)"
   ]
  },
  {
   "cell_type": "code",
   "execution_count": 3,
   "metadata": {},
   "outputs": [
    {
     "data": {
      "text/plain": [
       "3.1365926848388144"
      ]
     },
     "execution_count": 3,
     "metadata": {},
     "output_type": "execute_result"
    }
   ],
   "source": [
    "def pi_sum(n):\n",
    "    total, k = 0, 1\n",
    "    while k <= n:\n",
    "        total, k = total + 8 / ((4 * k - 3) * (4 * k - 1)), k + 1\n",
    "    return total\n",
    "\n",
    "\n",
    "pi_sum(100)"
   ]
  },
  {
   "cell_type": "code",
   "execution_count": 6,
   "metadata": {},
   "outputs": [],
   "source": [
    "def summation(n, term):\n",
    "    total, k = 0, 1\n",
    "    while k <= n:\n",
    "        total, k = total + term(k), k + 1\n",
    "    return total"
   ]
  },
  {
   "cell_type": "code",
   "execution_count": 7,
   "metadata": {},
   "outputs": [
    {
     "data": {
      "text/plain": [
       "5050"
      ]
     },
     "execution_count": 7,
     "metadata": {},
     "output_type": "execute_result"
    }
   ],
   "source": [
    "def identity(x):\n",
    "    return x\n",
    "\n",
    "\n",
    "def sum_naturals(n):\n",
    "    return summation(n, identity)\n",
    "\n",
    "\n",
    "sum_naturals(100)"
   ]
  },
  {
   "cell_type": "code",
   "execution_count": 9,
   "metadata": {},
   "outputs": [
    {
     "data": {
      "text/plain": [
       "25502500"
      ]
     },
     "execution_count": 9,
     "metadata": {},
     "output_type": "execute_result"
    }
   ],
   "source": [
    "def cube(x):\n",
    "    return x * x * x\n",
    "\n",
    "\n",
    "def sum_cubes(n):\n",
    "    return summation(n, cube)\n",
    "\n",
    "\n",
    "sum_cubes(100)"
   ]
  },
  {
   "cell_type": "code",
   "execution_count": 10,
   "metadata": {},
   "outputs": [
    {
     "data": {
      "text/plain": [
       "3.1365926848388144"
      ]
     },
     "execution_count": 10,
     "metadata": {},
     "output_type": "execute_result"
    }
   ],
   "source": [
    "def pi_term(x):\n",
    "    return 8 / ((4 * x - 3) * (4 * x - 1))\n",
    "\n",
    "\n",
    "def sum_term(n):\n",
    "    return summation(n, pi_term)\n",
    "\n",
    "\n",
    "sum_term(100)"
   ]
  },
  {
   "cell_type": "code",
   "execution_count": 11,
   "metadata": {},
   "outputs": [],
   "source": [
    "def improve(update, close, guess=1):\n",
    "    while not close(guess):\n",
    "        guess = update(guess)\n",
    "    return guess"
   ]
  },
  {
   "cell_type": "code",
   "execution_count": 12,
   "metadata": {},
   "outputs": [],
   "source": [
    "def golden_update(guess):\n",
    "    return 1 / guess + 1\n",
    "\n",
    "\n",
    "def approx_eq(x, y, tolerance=1e-15):\n",
    "    return abs(x - y) < tolerance\n",
    "\n",
    "\n",
    "def square_close_to_successor(guess):\n",
    "    return approx_eq(guess * guess, guess + 1)"
   ]
  },
  {
   "cell_type": "code",
   "execution_count": 13,
   "metadata": {},
   "outputs": [
    {
     "data": {
      "text/plain": [
       "1.6180339887498951"
      ]
     },
     "execution_count": 13,
     "metadata": {},
     "output_type": "execute_result"
    }
   ],
   "source": [
    "improve(golden_update, square_close_to_successor)"
   ]
  },
  {
   "cell_type": "code",
   "execution_count": 14,
   "metadata": {},
   "outputs": [],
   "source": [
    "from math import sqrt\n",
    "\n",
    "phi = 1 / 2 + sqrt(5) / 2\n",
    "\n",
    "\n",
    "def improve_test():\n",
    "    approx_phi = improve(golden_update, square_close_to_successor)\n",
    "    assert approx_eq(phi, approx_phi), \"phi differs from its approximation\"\n",
    "\n",
    "\n",
    "improve_test()"
   ]
  },
  {
   "cell_type": "code",
   "execution_count": 16,
   "metadata": {},
   "outputs": [
    {
     "data": {
      "text/plain": [
       "16.0"
      ]
     },
     "execution_count": 16,
     "metadata": {},
     "output_type": "execute_result"
    }
   ],
   "source": [
    "def average(x, y):\n",
    "    return (x + y) / 2\n",
    "\n",
    "\n",
    "def sqrt(a):\n",
    "    def sqrt_update(x):\n",
    "        return average(x, a / x)\n",
    "\n",
    "    def sqrt_close(x):\n",
    "        return approx_eq(x * x, a)\n",
    "\n",
    "    return improve(sqrt_update, sqrt_close)\n",
    "\n",
    "\n",
    "sqrt(256)"
   ]
  },
  {
   "cell_type": "code",
   "execution_count": 17,
   "metadata": {},
   "outputs": [
    {
     "data": {
      "text/plain": [
       "169"
      ]
     },
     "execution_count": 17,
     "metadata": {},
     "output_type": "execute_result"
    }
   ],
   "source": [
    "def compose1(f, g):\n",
    "    def h(x):\n",
    "        return f(g(x))\n",
    "\n",
    "    return h\n",
    "\n",
    "\n",
    "def square(x):\n",
    "    return x * x\n",
    "\n",
    "\n",
    "def successor(x):\n",
    "    return x + 1\n",
    "\n",
    "\n",
    "def f(x):\n",
    "    \"\"\"Never called.\"\"\"\n",
    "    return -x\n",
    "\n",
    "\n",
    "square_successor = compose1(square, successor)\n",
    "square_successor(12)"
   ]
  },
  {
   "cell_type": "code",
   "execution_count": null,
   "metadata": {},
   "outputs": [],
   "source": [
    "def newton_update(f, df):\n",
    "    def update(x):\n",
    "        return x - f(x) / df(x)\n",
    "\n",
    "    return update"
   ]
  }
 ],
 "metadata": {
  "kernelspec": {
   "display_name": "Python 3",
   "language": "python",
   "name": "python3"
  },
  "language_info": {
   "codemirror_mode": {
    "name": "ipython",
    "version": 3
   },
   "file_extension": ".py",
   "mimetype": "text/x-python",
   "name": "python",
   "nbconvert_exporter": "python",
   "pygments_lexer": "ipython3",
   "version": "3.12.1"
  }
 },
 "nbformat": 4,
 "nbformat_minor": 2
}
