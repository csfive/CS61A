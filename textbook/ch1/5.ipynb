{
 "cells": [
  {
   "cell_type": "code",
   "execution_count": 1,
   "metadata": {},
   "outputs": [],
   "source": [
    "from operator import mul\n",
    "\n",
    "\n",
    "def square(x):\n",
    "    return mul(x, x)"
   ]
  },
  {
   "cell_type": "code",
   "execution_count": 2,
   "metadata": {},
   "outputs": [],
   "source": [
    "def percent_difference(x, y):\n",
    "    return 100 * abs(x - y) / x"
   ]
  },
  {
   "cell_type": "code",
   "execution_count": 3,
   "metadata": {},
   "outputs": [
    {
     "data": {
      "text/plain": [
       "25.0"
      ]
     },
     "execution_count": 3,
     "metadata": {},
     "output_type": "execute_result"
    }
   ],
   "source": [
    "percent_difference(40, 50)"
   ]
  },
  {
   "cell_type": "code",
   "execution_count": 4,
   "metadata": {},
   "outputs": [
    {
     "data": {
      "text/plain": [
       "True"
      ]
     },
     "execution_count": 4,
     "metadata": {},
     "output_type": "execute_result"
    }
   ],
   "source": [
    "0 == -0"
   ]
  },
  {
   "cell_type": "code",
   "execution_count": 5,
   "metadata": {},
   "outputs": [
    {
     "data": {
      "text/plain": [
       "False"
      ]
     },
     "execution_count": 5,
     "metadata": {},
     "output_type": "execute_result"
    }
   ],
   "source": [
    "True and False"
   ]
  },
  {
   "cell_type": "code",
   "execution_count": 6,
   "metadata": {},
   "outputs": [
    {
     "data": {
      "text/plain": [
       "True"
      ]
     },
     "execution_count": 6,
     "metadata": {},
     "output_type": "execute_result"
    }
   ],
   "source": [
    "True or False"
   ]
  },
  {
   "cell_type": "code",
   "execution_count": 7,
   "metadata": {},
   "outputs": [
    {
     "data": {
      "text/plain": [
       "True"
      ]
     },
     "execution_count": 7,
     "metadata": {},
     "output_type": "execute_result"
    }
   ],
   "source": [
    "not False"
   ]
  },
  {
   "cell_type": "code",
   "execution_count": 8,
   "metadata": {},
   "outputs": [
    {
     "data": {
      "text/plain": [
       "13"
      ]
     },
     "execution_count": 8,
     "metadata": {},
     "output_type": "execute_result"
    }
   ],
   "source": [
    "def fib(n):\n",
    "    \"\"\"Compute the nth Fibonacci number, for n >= 2.\"\"\"\n",
    "    pred, curr = 0, 1\n",
    "    k = 2\n",
    "    while k < n:\n",
    "        pred, curr = curr, pred + curr\n",
    "        k = k + 1\n",
    "    return curr\n",
    "\n",
    "\n",
    "fib(8)"
   ]
  },
  {
   "cell_type": "code",
   "execution_count": 9,
   "metadata": {},
   "outputs": [],
   "source": [
    "assert fib(8) == 13, \"The 8th Fibonacci number should be 13\""
   ]
  },
  {
   "cell_type": "code",
   "execution_count": 10,
   "metadata": {},
   "outputs": [],
   "source": [
    "def fib_test():\n",
    "    assert fib(2) == 1, \"The 2nd Fibonacci number should be 1\"\n",
    "    assert fib(3) == 1, \"The 3rd Fibonacci number should be 1\"\n",
    "    assert fib(50) == 7778742049, \"Error at the 50th Fibonacci number\""
   ]
  },
  {
   "cell_type": "code",
   "execution_count": 11,
   "metadata": {},
   "outputs": [],
   "source": [
    "def sum_naturals(n):\n",
    "    \"\"\"Return the sum of the first n natural numbers.\n",
    "\n",
    "    >>> sum_naturals(10)\n",
    "    55\n",
    "    >>> sum_naturals(100)\n",
    "    5050\n",
    "    \"\"\"\n",
    "    total, k = 0, 1\n",
    "    while k <= n:\n",
    "        total, k = total + k, k + 1\n",
    "    return total"
   ]
  },
  {
   "cell_type": "code",
   "execution_count": 12,
   "metadata": {},
   "outputs": [
    {
     "data": {
      "text/plain": [
       "TestResults(failed=0, attempted=2)"
      ]
     },
     "execution_count": 12,
     "metadata": {},
     "output_type": "execute_result"
    }
   ],
   "source": [
    "from doctest import testmod\n",
    "\n",
    "testmod()"
   ]
  },
  {
   "cell_type": "code",
   "execution_count": 13,
   "metadata": {},
   "outputs": [
    {
     "data": {
      "text/plain": [
       "{'__name__': '__main__',\n",
       " '__doc__': 'Automatically created module for IPython interactive environment',\n",
       " '__package__': None,\n",
       " '__loader__': None,\n",
       " '__spec__': None,\n",
       " '__builtin__': <module 'builtins' (built-in)>,\n",
       " '__builtins__': <module 'builtins' (built-in)>,\n",
       " '_ih': ['',\n",
       "  'from operator import mul\\n\\n\\ndef square(x):\\n    return mul(x, x)',\n",
       "  'def percent_difference(x, y):\\n    return 100 * abs(x - y) / x',\n",
       "  'percent_difference(40, 50)',\n",
       "  '0 == -0',\n",
       "  'True and False',\n",
       "  'True or False',\n",
       "  'not False',\n",
       "  'def fib(n):\\n    \"\"\"Compute the nth Fibonacci number, for n >= 2.\"\"\"\\n    pred, curr = 0, 1\\n    k = 2\\n    while k < n:\\n        pred, curr = curr, pred + curr\\n        k = k + 1\\n    return curr\\n\\n\\nfib(8)',\n",
       "  'assert fib(8) == 13, \"The 8th Fibonacci number should be 13\"',\n",
       "  'def fib_test():\\n    assert fib(2) == 1, \"The 2nd Fibonacci number should be 1\"\\n    assert fib(3) == 1, \"The 3rd Fibonacci number should be 1\"\\n    assert fib(50) == 7778742049, \"Error at the 50th Fibonacci number\"',\n",
       "  'def sum_naturals(n):\\n    \"\"\"Return the sum of the first n natural numbers.\\n\\n    >>> sum_naturals(10)\\n    55\\n    >>> sum_naturals(100)\\n    5050\\n    \"\"\"\\n    total, k = 0, 1\\n    while k <= n:\\n        total, k = total + k, k + 1\\n    return total',\n",
       "  'from doctest import testmod\\n\\ntestmod()',\n",
       "  'globals()'],\n",
       " '_oh': {3: 25.0,\n",
       "  4: True,\n",
       "  5: False,\n",
       "  6: True,\n",
       "  7: True,\n",
       "  8: 13,\n",
       "  12: TestResults(failed=0, attempted=2)},\n",
       " '_dh': [PosixPath('/home/mancuoj/Works/CS61A/textbook/ch1'),\n",
       "  PosixPath('/home/mancuoj/Works/CS61A/textbook/ch1')],\n",
       " 'In': ['',\n",
       "  'from operator import mul\\n\\n\\ndef square(x):\\n    return mul(x, x)',\n",
       "  'def percent_difference(x, y):\\n    return 100 * abs(x - y) / x',\n",
       "  'percent_difference(40, 50)',\n",
       "  '0 == -0',\n",
       "  'True and False',\n",
       "  'True or False',\n",
       "  'not False',\n",
       "  'def fib(n):\\n    \"\"\"Compute the nth Fibonacci number, for n >= 2.\"\"\"\\n    pred, curr = 0, 1\\n    k = 2\\n    while k < n:\\n        pred, curr = curr, pred + curr\\n        k = k + 1\\n    return curr\\n\\n\\nfib(8)',\n",
       "  'assert fib(8) == 13, \"The 8th Fibonacci number should be 13\"',\n",
       "  'def fib_test():\\n    assert fib(2) == 1, \"The 2nd Fibonacci number should be 1\"\\n    assert fib(3) == 1, \"The 3rd Fibonacci number should be 1\"\\n    assert fib(50) == 7778742049, \"Error at the 50th Fibonacci number\"',\n",
       "  'def sum_naturals(n):\\n    \"\"\"Return the sum of the first n natural numbers.\\n\\n    >>> sum_naturals(10)\\n    55\\n    >>> sum_naturals(100)\\n    5050\\n    \"\"\"\\n    total, k = 0, 1\\n    while k <= n:\\n        total, k = total + k, k + 1\\n    return total',\n",
       "  'from doctest import testmod\\n\\ntestmod()',\n",
       "  'globals()'],\n",
       " 'Out': {3: 25.0,\n",
       "  4: True,\n",
       "  5: False,\n",
       "  6: True,\n",
       "  7: True,\n",
       "  8: 13,\n",
       "  12: TestResults(failed=0, attempted=2)},\n",
       " 'get_ipython': <bound method InteractiveShell.get_ipython of <ipykernel.zmqshell.ZMQInteractiveShell object at 0x7fbc6c1bd280>>,\n",
       " 'exit': <IPython.core.autocall.ZMQExitAutocall at 0x7fbc57679700>,\n",
       " 'quit': <IPython.core.autocall.ZMQExitAutocall at 0x7fbc57679700>,\n",
       " 'open': <function _io.open(file, mode='r', buffering=-1, encoding=None, errors=None, newline=None, closefd=True, opener=None)>,\n",
       " '__': True,\n",
       " '___': True,\n",
       " '__vsc_ipynb_file__': '/home/mancuoj/Works/CS61A/textbook/ch1/5.ipynb',\n",
       " '_i': 'from doctest import testmod\\n\\ntestmod()',\n",
       " '_ii': 'def sum_naturals(n):\\n    \"\"\"Return the sum of the first n natural numbers.\\n\\n    >>> sum_naturals(10)\\n    55\\n    >>> sum_naturals(100)\\n    5050\\n    \"\"\"\\n    total, k = 0, 1\\n    while k <= n:\\n        total, k = total + k, k + 1\\n    return total',\n",
       " '_iii': 'def fib_test():\\n    assert fib(2) == 1, \"The 2nd Fibonacci number should be 1\"\\n    assert fib(3) == 1, \"The 3rd Fibonacci number should be 1\"\\n    assert fib(50) == 7778742049, \"Error at the 50th Fibonacci number\"',\n",
       " '_i1': 'from operator import mul\\n\\n\\ndef square(x):\\n    return mul(x, x)',\n",
       " 'mul': <function _operator.mul(a, b, /)>,\n",
       " 'square': <function __main__.square(x)>,\n",
       " '_i2': 'def percent_difference(x, y):\\n    return 100 * abs(x - y) / x',\n",
       " 'percent_difference': <function __main__.percent_difference(x, y)>,\n",
       " '_i3': 'percent_difference(40, 50)',\n",
       " '_3': 25.0,\n",
       " '_i4': '0 == -0',\n",
       " '_4': True,\n",
       " '_i5': 'True and False',\n",
       " '_5': False,\n",
       " '_i6': 'True or False',\n",
       " '_6': True,\n",
       " '_i7': 'not False',\n",
       " '_7': True,\n",
       " '_i8': 'def fib(n):\\n    \"\"\"Compute the nth Fibonacci number, for n >= 2.\"\"\"\\n    pred, curr = 0, 1\\n    k = 2\\n    while k < n:\\n        pred, curr = curr, pred + curr\\n        k = k + 1\\n    return curr\\n\\n\\nfib(8)',\n",
       " 'fib': <function __main__.fib(n)>,\n",
       " '_8': 13,\n",
       " '_i9': 'assert fib(8) == 13, \"The 8th Fibonacci number should be 13\"',\n",
       " '_i10': 'def fib_test():\\n    assert fib(2) == 1, \"The 2nd Fibonacci number should be 1\"\\n    assert fib(3) == 1, \"The 3rd Fibonacci number should be 1\"\\n    assert fib(50) == 7778742049, \"Error at the 50th Fibonacci number\"',\n",
       " 'fib_test': <function __main__.fib_test()>,\n",
       " '_i11': 'def sum_naturals(n):\\n    \"\"\"Return the sum of the first n natural numbers.\\n\\n    >>> sum_naturals(10)\\n    55\\n    >>> sum_naturals(100)\\n    5050\\n    \"\"\"\\n    total, k = 0, 1\\n    while k <= n:\\n        total, k = total + k, k + 1\\n    return total',\n",
       " 'sum_naturals': <function __main__.sum_naturals(n)>,\n",
       " '_i12': 'from doctest import testmod\\n\\ntestmod()',\n",
       " 'testmod': <function doctest.testmod(m=None, name=None, globs=None, verbose=None, report=True, optionflags=0, extraglobs=None, raise_on_error=False, exclude_empty=False)>,\n",
       " '_12': TestResults(failed=0, attempted=2),\n",
       " '_i13': 'globals()'}"
      ]
     },
     "execution_count": 13,
     "metadata": {},
     "output_type": "execute_result"
    }
   ],
   "source": [
    "globals()"
   ]
  },
  {
   "cell_type": "code",
   "execution_count": 14,
   "metadata": {},
   "outputs": [
    {
     "name": "stdout",
     "output_type": "stream",
     "text": [
      "Finding tests in NoName\n",
      "Trying:\n",
      "    sum_naturals(10)\n",
      "Expecting:\n",
      "    55\n",
      "ok\n",
      "Trying:\n",
      "    sum_naturals(100)\n",
      "Expecting:\n",
      "    5050\n",
      "ok\n"
     ]
    }
   ],
   "source": [
    "from doctest import run_docstring_examples\n",
    "\n",
    "run_docstring_examples(sum_naturals, globals(), True)"
   ]
  },
  {
   "cell_type": "markdown",
   "metadata": {},
   "source": [
    "`python3 -m doctest <python_source_file>`\n"
   ]
  }
 ],
 "metadata": {
  "kernelspec": {
   "display_name": "Python 3",
   "language": "python",
   "name": "python3"
  },
  "language_info": {
   "codemirror_mode": {
    "name": "ipython",
    "version": 3
   },
   "file_extension": ".py",
   "mimetype": "text/x-python",
   "name": "python",
   "nbconvert_exporter": "python",
   "pygments_lexer": "ipython3",
   "version": "3.12.1"
  }
 },
 "nbformat": 4,
 "nbformat_minor": 2
}
