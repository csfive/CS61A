{
 "cells": [
  {
   "cell_type": "code",
   "execution_count": 23,
   "metadata": {},
   "outputs": [],
   "source": [
    "from operator import mul\n",
    "\n",
    "\n",
    "def square(x):\n",
    "    return mul(x, x)"
   ]
  },
  {
   "cell_type": "code",
   "execution_count": 24,
   "metadata": {},
   "outputs": [],
   "source": [
    "def percent_difference(x, y):\n",
    "    return 100 * abs(x - y) / x"
   ]
  },
  {
   "cell_type": "code",
   "execution_count": 25,
   "metadata": {},
   "outputs": [
    {
     "data": {
      "text/plain": [
       "25.0"
      ]
     },
     "execution_count": 25,
     "metadata": {},
     "output_type": "execute_result"
    }
   ],
   "source": [
    "percent_difference(40, 50)"
   ]
  },
  {
   "cell_type": "code",
   "execution_count": 26,
   "metadata": {},
   "outputs": [
    {
     "data": {
      "text/plain": [
       "True"
      ]
     },
     "execution_count": 26,
     "metadata": {},
     "output_type": "execute_result"
    }
   ],
   "source": [
    "0 == -0"
   ]
  },
  {
   "cell_type": "code",
   "execution_count": 27,
   "metadata": {},
   "outputs": [
    {
     "data": {
      "text/plain": [
       "False"
      ]
     },
     "execution_count": 27,
     "metadata": {},
     "output_type": "execute_result"
    }
   ],
   "source": [
    "True and False"
   ]
  },
  {
   "cell_type": "code",
   "execution_count": 28,
   "metadata": {},
   "outputs": [
    {
     "data": {
      "text/plain": [
       "True"
      ]
     },
     "execution_count": 28,
     "metadata": {},
     "output_type": "execute_result"
    }
   ],
   "source": [
    "True or False"
   ]
  },
  {
   "cell_type": "code",
   "execution_count": 29,
   "metadata": {},
   "outputs": [
    {
     "data": {
      "text/plain": [
       "True"
      ]
     },
     "execution_count": 29,
     "metadata": {},
     "output_type": "execute_result"
    }
   ],
   "source": [
    "not False"
   ]
  },
  {
   "cell_type": "code",
   "execution_count": 30,
   "metadata": {},
   "outputs": [
    {
     "data": {
      "text/plain": [
       "13"
      ]
     },
     "execution_count": 30,
     "metadata": {},
     "output_type": "execute_result"
    }
   ],
   "source": [
    "def fib(n):\n",
    "    \"\"\"Compute the nth Fibonacci number, for n >= 2.\"\"\"\n",
    "    pred, curr = 0, 1\n",
    "    k = 2\n",
    "    while k < n:\n",
    "        pred, curr = curr, pred + curr\n",
    "        k = k + 1\n",
    "    return curr\n",
    "\n",
    "\n",
    "fib(8)"
   ]
  },
  {
   "cell_type": "code",
   "execution_count": 31,
   "metadata": {},
   "outputs": [],
   "source": [
    "assert fib(8) == 13, \"The 8th Fibonacci number should be 13\""
   ]
  },
  {
   "cell_type": "code",
   "execution_count": 32,
   "metadata": {},
   "outputs": [],
   "source": [
    "def fib_test():\n",
    "    assert fib(2) == 1, \"The 2nd Fibonacci number should be 1\"\n",
    "    assert fib(3) == 1, \"The 3rd Fibonacci number should be 1\"\n",
    "    assert fib(50) == 7778742049, \"Error at the 50th Fibonacci number\""
   ]
  },
  {
   "cell_type": "code",
   "execution_count": 33,
   "metadata": {},
   "outputs": [],
   "source": [
    "def sum_naturals(n):\n",
    "    \"\"\"Return the sum of the first n natural numbers.\n",
    "\n",
    "    >>> sum_naturals(10)\n",
    "    55\n",
    "    >>> sum_naturals(100)\n",
    "    5050\n",
    "    \"\"\"\n",
    "    total, k = 0, 1\n",
    "    while k <= n:\n",
    "        total, k = total + k, k + 1\n",
    "    return total"
   ]
  },
  {
   "cell_type": "code",
   "execution_count": 34,
   "metadata": {},
   "outputs": [
    {
     "data": {
      "text/plain": [
       "TestResults(failed=0, attempted=2)"
      ]
     },
     "execution_count": 34,
     "metadata": {},
     "output_type": "execute_result"
    }
   ],
   "source": [
    "from doctest import testmod\n",
    "\n",
    "testmod()"
   ]
  },
  {
   "cell_type": "code",
   "execution_count": 35,
   "metadata": {},
   "outputs": [
    {
     "data": {
      "text/plain": [
       "{'__name__': '__main__',\n",
       " '__doc__': 'Automatically created module for IPython interactive environment',\n",
       " '__package__': None,\n",
       " '__loader__': None,\n",
       " '__spec__': None,\n",
       " '__builtin__': <module 'builtins' (built-in)>,\n",
       " '__builtins__': <module 'builtins' (built-in)>,\n",
       " '_ih': ['',\n",
       "  'from operator import mul\\n\\n\\ndef square(x):\\n    return mul(x, x)',\n",
       "  'def percent_difference(x, y):\\n    return 100 * abs(x - y) / x',\n",
       "  'percent_difference(40, 50)',\n",
       "  '0 == -0',\n",
       "  'True and False',\n",
       "  'from operator import mul\\n\\n\\ndef square(x):\\n    return mul(x, x)',\n",
       "  'def percent_difference(x, y):\\n    return 100 * abs(x - y) / x',\n",
       "  'percent_difference(40, 50)',\n",
       "  '0 == -0',\n",
       "  'True and False',\n",
       "  'True or False',\n",
       "  'not False',\n",
       "  'def fib(n):\\n    \"\"\"Compute the nth Fibonacci number, for n >= 2.\"\"\"\\n    pred, curr = 0, 1\\n    k = 2\\n    while k < n:\\n        pred, curr = curr, pred + curr\\n        k = k + 1\\n    return curr\\n\\n\\nresult = fib(8)',\n",
       "  'def fib(n):\\n    \"\"\"Compute the nth Fibonacci number, for n >= 2.\"\"\"\\n    pred, curr = 0, 1\\n    k = 2\\n    while k < n:\\n        pred, curr = curr, pred + curr\\n        k = k + 1\\n    return curr\\n\\n\\nfib(8)',\n",
       "  'assert fib(8) == 13, \"The 8th Fibonacci number should be 13\"',\n",
       "  'def fib_test():\\n    assert fib(2) == 1, \"The 2nd Fibonacci number should be 1\"\\n    assert fib(3) == 1, \"The 3rd Fibonacci number should be 1\"\\n    assert fib(50) == 7778742049, \"Error at the 50th Fibonacci number\"',\n",
       "  'def sum_naturals(n):\\n    \"\"\"Return the sum of the first n natural numbers.\\n\\n    >>> sum_naturals(10)\\n    55\\n    >>> sum_naturals(100)\\n    5050\\n    \"\"\"\\n    total, k = 0, 1\\n    while k <= n:\\n        total, k = total + k, k + 1\\n    return total',\n",
       "  'from doctest import testmod\\n\\ntestmod()',\n",
       "  'assert fib(8) == 12, \"The 8th Fibonacci number should be 13\"',\n",
       "  'assert fib(8) == 13, \"The 8th Fibonacci number should be 13\"',\n",
       "  'globals()',\n",
       "  'from doctest import run_docstring_examples\\n\\nrun_docstring_examples(sum_naturals, globals(), True)',\n",
       "  'from operator import mul\\n\\n\\ndef square(x):\\n    return mul(x, x)',\n",
       "  'def percent_difference(x, y):\\n    return 100 * abs(x - y) / x',\n",
       "  'percent_difference(40, 50)',\n",
       "  '0 == -0',\n",
       "  'True and False',\n",
       "  'True or False',\n",
       "  'not False',\n",
       "  'def fib(n):\\n    \"\"\"Compute the nth Fibonacci number, for n >= 2.\"\"\"\\n    pred, curr = 0, 1\\n    k = 2\\n    while k < n:\\n        pred, curr = curr, pred + curr\\n        k = k + 1\\n    return curr\\n\\n\\nfib(8)',\n",
       "  'assert fib(8) == 13, \"The 8th Fibonacci number should be 13\"',\n",
       "  'def fib_test():\\n    assert fib(2) == 1, \"The 2nd Fibonacci number should be 1\"\\n    assert fib(3) == 1, \"The 3rd Fibonacci number should be 1\"\\n    assert fib(50) == 7778742049, \"Error at the 50th Fibonacci number\"',\n",
       "  'def sum_naturals(n):\\n    \"\"\"Return the sum of the first n natural numbers.\\n\\n    >>> sum_naturals(10)\\n    55\\n    >>> sum_naturals(100)\\n    5050\\n    \"\"\"\\n    total, k = 0, 1\\n    while k <= n:\\n        total, k = total + k, k + 1\\n    return total',\n",
       "  'from doctest import testmod\\n\\ntestmod()',\n",
       "  'globals()'],\n",
       " '_oh': {3: 25.0,\n",
       "  4: True,\n",
       "  5: False,\n",
       "  8: 25.0,\n",
       "  9: True,\n",
       "  10: False,\n",
       "  11: True,\n",
       "  12: True,\n",
       "  14: 13,\n",
       "  18: TestResults(failed=0, attempted=2),\n",
       "  21: {...},\n",
       "  25: 25.0,\n",
       "  26: True,\n",
       "  27: False,\n",
       "  28: True,\n",
       "  29: True,\n",
       "  30: 13,\n",
       "  34: TestResults(failed=0, attempted=2)},\n",
       " '_dh': [PosixPath('/home/mancuoj/Works/CS61A/textbook'),\n",
       "  PosixPath('/home/mancuoj/Works/CS61A/textbook')],\n",
       " 'In': ['',\n",
       "  'from operator import mul\\n\\n\\ndef square(x):\\n    return mul(x, x)',\n",
       "  'def percent_difference(x, y):\\n    return 100 * abs(x - y) / x',\n",
       "  'percent_difference(40, 50)',\n",
       "  '0 == -0',\n",
       "  'True and False',\n",
       "  'from operator import mul\\n\\n\\ndef square(x):\\n    return mul(x, x)',\n",
       "  'def percent_difference(x, y):\\n    return 100 * abs(x - y) / x',\n",
       "  'percent_difference(40, 50)',\n",
       "  '0 == -0',\n",
       "  'True and False',\n",
       "  'True or False',\n",
       "  'not False',\n",
       "  'def fib(n):\\n    \"\"\"Compute the nth Fibonacci number, for n >= 2.\"\"\"\\n    pred, curr = 0, 1\\n    k = 2\\n    while k < n:\\n        pred, curr = curr, pred + curr\\n        k = k + 1\\n    return curr\\n\\n\\nresult = fib(8)',\n",
       "  'def fib(n):\\n    \"\"\"Compute the nth Fibonacci number, for n >= 2.\"\"\"\\n    pred, curr = 0, 1\\n    k = 2\\n    while k < n:\\n        pred, curr = curr, pred + curr\\n        k = k + 1\\n    return curr\\n\\n\\nfib(8)',\n",
       "  'assert fib(8) == 13, \"The 8th Fibonacci number should be 13\"',\n",
       "  'def fib_test():\\n    assert fib(2) == 1, \"The 2nd Fibonacci number should be 1\"\\n    assert fib(3) == 1, \"The 3rd Fibonacci number should be 1\"\\n    assert fib(50) == 7778742049, \"Error at the 50th Fibonacci number\"',\n",
       "  'def sum_naturals(n):\\n    \"\"\"Return the sum of the first n natural numbers.\\n\\n    >>> sum_naturals(10)\\n    55\\n    >>> sum_naturals(100)\\n    5050\\n    \"\"\"\\n    total, k = 0, 1\\n    while k <= n:\\n        total, k = total + k, k + 1\\n    return total',\n",
       "  'from doctest import testmod\\n\\ntestmod()',\n",
       "  'assert fib(8) == 12, \"The 8th Fibonacci number should be 13\"',\n",
       "  'assert fib(8) == 13, \"The 8th Fibonacci number should be 13\"',\n",
       "  'globals()',\n",
       "  'from doctest import run_docstring_examples\\n\\nrun_docstring_examples(sum_naturals, globals(), True)',\n",
       "  'from operator import mul\\n\\n\\ndef square(x):\\n    return mul(x, x)',\n",
       "  'def percent_difference(x, y):\\n    return 100 * abs(x - y) / x',\n",
       "  'percent_difference(40, 50)',\n",
       "  '0 == -0',\n",
       "  'True and False',\n",
       "  'True or False',\n",
       "  'not False',\n",
       "  'def fib(n):\\n    \"\"\"Compute the nth Fibonacci number, for n >= 2.\"\"\"\\n    pred, curr = 0, 1\\n    k = 2\\n    while k < n:\\n        pred, curr = curr, pred + curr\\n        k = k + 1\\n    return curr\\n\\n\\nfib(8)',\n",
       "  'assert fib(8) == 13, \"The 8th Fibonacci number should be 13\"',\n",
       "  'def fib_test():\\n    assert fib(2) == 1, \"The 2nd Fibonacci number should be 1\"\\n    assert fib(3) == 1, \"The 3rd Fibonacci number should be 1\"\\n    assert fib(50) == 7778742049, \"Error at the 50th Fibonacci number\"',\n",
       "  'def sum_naturals(n):\\n    \"\"\"Return the sum of the first n natural numbers.\\n\\n    >>> sum_naturals(10)\\n    55\\n    >>> sum_naturals(100)\\n    5050\\n    \"\"\"\\n    total, k = 0, 1\\n    while k <= n:\\n        total, k = total + k, k + 1\\n    return total',\n",
       "  'from doctest import testmod\\n\\ntestmod()',\n",
       "  'globals()'],\n",
       " 'Out': {3: 25.0,\n",
       "  4: True,\n",
       "  5: False,\n",
       "  8: 25.0,\n",
       "  9: True,\n",
       "  10: False,\n",
       "  11: True,\n",
       "  12: True,\n",
       "  14: 13,\n",
       "  18: TestResults(failed=0, attempted=2),\n",
       "  21: {...},\n",
       "  25: 25.0,\n",
       "  26: True,\n",
       "  27: False,\n",
       "  28: True,\n",
       "  29: True,\n",
       "  30: 13,\n",
       "  34: TestResults(failed=0, attempted=2)},\n",
       " 'get_ipython': <bound method InteractiveShell.get_ipython of <ipykernel.zmqshell.ZMQInteractiveShell object at 0x7fecd4385100>>,\n",
       " 'exit': <IPython.core.autocall.ZMQExitAutocall at 0x7fecd4385820>,\n",
       " 'quit': <IPython.core.autocall.ZMQExitAutocall at 0x7fecd4385820>,\n",
       " 'open': <function _io.open(file, mode='r', buffering=-1, encoding=None, errors=None, newline=None, closefd=True, opener=None)>,\n",
       " '__': True,\n",
       " '___': True,\n",
       " '__vsc_ipynb_file__': '/home/mancuoj/Works/CS61A/textbook/ch1.5.ipynb',\n",
       " '_i': 'from doctest import testmod\\n\\ntestmod()',\n",
       " '_ii': 'def sum_naturals(n):\\n    \"\"\"Return the sum of the first n natural numbers.\\n\\n    >>> sum_naturals(10)\\n    55\\n    >>> sum_naturals(100)\\n    5050\\n    \"\"\"\\n    total, k = 0, 1\\n    while k <= n:\\n        total, k = total + k, k + 1\\n    return total',\n",
       " '_iii': 'def fib_test():\\n    assert fib(2) == 1, \"The 2nd Fibonacci number should be 1\"\\n    assert fib(3) == 1, \"The 3rd Fibonacci number should be 1\"\\n    assert fib(50) == 7778742049, \"Error at the 50th Fibonacci number\"',\n",
       " '_i1': 'from operator import mul\\n\\n\\ndef square(x):\\n    return mul(x, x)',\n",
       " 'mul': <function _operator.mul(a, b, /)>,\n",
       " 'square': <function __main__.square(x)>,\n",
       " '_i2': 'def percent_difference(x, y):\\n    return 100 * abs(x - y) / x',\n",
       " 'percent_difference': <function __main__.percent_difference(x, y)>,\n",
       " '_i3': 'percent_difference(40, 50)',\n",
       " '_3': 25.0,\n",
       " '_i4': '0 == -0',\n",
       " '_4': True,\n",
       " '_i5': 'True and False',\n",
       " '_5': False,\n",
       " '_i6': 'from operator import mul\\n\\n\\ndef square(x):\\n    return mul(x, x)',\n",
       " '_i7': 'def percent_difference(x, y):\\n    return 100 * abs(x - y) / x',\n",
       " '_i8': 'percent_difference(40, 50)',\n",
       " '_8': 25.0,\n",
       " '_i9': '0 == -0',\n",
       " '_9': True,\n",
       " '_i10': 'True and False',\n",
       " '_10': False,\n",
       " '_i11': 'True or False',\n",
       " '_11': True,\n",
       " '_i12': 'not False',\n",
       " '_12': True,\n",
       " '_i13': 'def fib(n):\\n    \"\"\"Compute the nth Fibonacci number, for n >= 2.\"\"\"\\n    pred, curr = 0, 1\\n    k = 2\\n    while k < n:\\n        pred, curr = curr, pred + curr\\n        k = k + 1\\n    return curr\\n\\n\\nresult = fib(8)',\n",
       " 'fib': <function __main__.fib(n)>,\n",
       " 'result': 13,\n",
       " '_i14': 'def fib(n):\\n    \"\"\"Compute the nth Fibonacci number, for n >= 2.\"\"\"\\n    pred, curr = 0, 1\\n    k = 2\\n    while k < n:\\n        pred, curr = curr, pred + curr\\n        k = k + 1\\n    return curr\\n\\n\\nfib(8)',\n",
       " '_14': 13,\n",
       " '_i15': 'assert fib(8) == 13, \"The 8th Fibonacci number should be 13\"',\n",
       " '_i16': 'def fib_test():\\n    assert fib(2) == 1, \"The 2nd Fibonacci number should be 1\"\\n    assert fib(3) == 1, \"The 3rd Fibonacci number should be 1\"\\n    assert fib(50) == 7778742049, \"Error at the 50th Fibonacci number\"',\n",
       " 'fib_test': <function __main__.fib_test()>,\n",
       " '_i17': 'def sum_naturals(n):\\n    \"\"\"Return the sum of the first n natural numbers.\\n\\n    >>> sum_naturals(10)\\n    55\\n    >>> sum_naturals(100)\\n    5050\\n    \"\"\"\\n    total, k = 0, 1\\n    while k <= n:\\n        total, k = total + k, k + 1\\n    return total',\n",
       " 'sum_naturals': <function __main__.sum_naturals(n)>,\n",
       " '_i18': 'from doctest import testmod\\n\\ntestmod()',\n",
       " 'testmod': <function doctest.testmod(m=None, name=None, globs=None, verbose=None, report=True, optionflags=0, extraglobs=None, raise_on_error=False, exclude_empty=False)>,\n",
       " '_18': TestResults(failed=0, attempted=2),\n",
       " '_i19': 'assert fib(8) == 12, \"The 8th Fibonacci number should be 13\"',\n",
       " '_i20': 'assert fib(8) == 13, \"The 8th Fibonacci number should be 13\"',\n",
       " '_i21': 'globals()',\n",
       " '_21': {...},\n",
       " '_i22': 'from doctest import run_docstring_examples\\n\\nrun_docstring_examples(sum_naturals, globals(), True)',\n",
       " 'run_docstring_examples': <function doctest.run_docstring_examples(f, globs, verbose=False, name='NoName', compileflags=None, optionflags=0)>,\n",
       " '_i23': 'from operator import mul\\n\\n\\ndef square(x):\\n    return mul(x, x)',\n",
       " '_i24': 'def percent_difference(x, y):\\n    return 100 * abs(x - y) / x',\n",
       " '_i25': 'percent_difference(40, 50)',\n",
       " '_25': 25.0,\n",
       " '_i26': '0 == -0',\n",
       " '_26': True,\n",
       " '_i27': 'True and False',\n",
       " '_27': False,\n",
       " '_i28': 'True or False',\n",
       " '_28': True,\n",
       " '_i29': 'not False',\n",
       " '_29': True,\n",
       " '_i30': 'def fib(n):\\n    \"\"\"Compute the nth Fibonacci number, for n >= 2.\"\"\"\\n    pred, curr = 0, 1\\n    k = 2\\n    while k < n:\\n        pred, curr = curr, pred + curr\\n        k = k + 1\\n    return curr\\n\\n\\nfib(8)',\n",
       " '_30': 13,\n",
       " '_i31': 'assert fib(8) == 13, \"The 8th Fibonacci number should be 13\"',\n",
       " '_i32': 'def fib_test():\\n    assert fib(2) == 1, \"The 2nd Fibonacci number should be 1\"\\n    assert fib(3) == 1, \"The 3rd Fibonacci number should be 1\"\\n    assert fib(50) == 7778742049, \"Error at the 50th Fibonacci number\"',\n",
       " '_i33': 'def sum_naturals(n):\\n    \"\"\"Return the sum of the first n natural numbers.\\n\\n    >>> sum_naturals(10)\\n    55\\n    >>> sum_naturals(100)\\n    5050\\n    \"\"\"\\n    total, k = 0, 1\\n    while k <= n:\\n        total, k = total + k, k + 1\\n    return total',\n",
       " '_i34': 'from doctest import testmod\\n\\ntestmod()',\n",
       " '_34': TestResults(failed=0, attempted=2),\n",
       " '_i35': 'globals()'}"
      ]
     },
     "execution_count": 35,
     "metadata": {},
     "output_type": "execute_result"
    }
   ],
   "source": [
    "globals()"
   ]
  },
  {
   "cell_type": "code",
   "execution_count": 36,
   "metadata": {},
   "outputs": [
    {
     "name": "stdout",
     "output_type": "stream",
     "text": [
      "Finding tests in NoName\n",
      "Trying:\n",
      "    sum_naturals(10)\n",
      "Expecting:\n",
      "    55\n",
      "ok\n",
      "Trying:\n",
      "    sum_naturals(100)\n",
      "Expecting:\n",
      "    5050\n",
      "ok\n"
     ]
    }
   ],
   "source": [
    "from doctest import run_docstring_examples\n",
    "\n",
    "run_docstring_examples(sum_naturals, globals(), True)"
   ]
  },
  {
   "cell_type": "markdown",
   "metadata": {},
   "source": [
    "`python3 -m doctest <python_source_file>`\n"
   ]
  }
 ],
 "metadata": {
  "kernelspec": {
   "display_name": "Python 3",
   "language": "python",
   "name": "python3"
  },
  "language_info": {
   "codemirror_mode": {
    "name": "ipython",
    "version": 3
   },
   "file_extension": ".py",
   "mimetype": "text/x-python",
   "name": "python",
   "nbconvert_exporter": "python",
   "pygments_lexer": "ipython3",
   "version": "3.12.1"
  }
 },
 "nbformat": 4,
 "nbformat_minor": 2
}
